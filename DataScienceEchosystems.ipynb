{
 "cells": [
  {
   "cell_type": "markdown",
   "id": "6d9da26d-8562-4a00-bfb1-efd9a28556ae",
   "metadata": {},
   "source": [
    "# Data Science Tools and Ecosystem"
   ]
  },
  {
   "cell_type": "markdown",
   "id": "eaed193f-5331-4d3b-ba91-3927e321d722",
   "metadata": {},
   "source": [
    "## In this notebook, Data Science Tools and Ecosystem are summarized."
   ]
  },
  {
   "cell_type": "markdown",
   "id": "f0b966a0-a1d6-42c2-b554-e71a304df131",
   "metadata": {},
   "source": [
    "### Some of the popular languages that Data Scientists use are:\n",
    "1.Python  \n",
    "2.R  \n",
    "3.SQL  "
   ]
  },
  {
   "cell_type": "markdown",
   "id": "939f216c-8e57-4654-a827-a31ba272a0c9",
   "metadata": {},
   "source": [
    "### Some of the commonly used libraries used by Data Scientists include:\n",
    "\n",
    "1. NumPy  \n",
    "2. Pandas  \n",
    "3. Matplotlib  \n",
    "4. Scikit-learn  \n",
    "5. TensorFlow"
   ]
  },
  {
   "cell_type": "markdown",
   "id": "e85c1a28-02a0-4af2-8eb7-5fb3bdb28d65",
   "metadata": {},
   "source": [
    "### Some of the commonly used libraries used by Data Scientists include:\n",
    "\n",
    "| Data Science Tools |\n",
    "|--------------------|\n",
    "|  Jupyter Nootbook  |\n",
    "|       Hadoop       |\n",
    "|       Python       |\n",
    "|         SQL        |\n"
   ]
  },
  {
   "cell_type": "markdown",
   "id": "88ae08f9-374b-4002-a971-08cd1efd3976",
   "metadata": {},
   "source": [
    "### Below are a few examples of evaluating arithmetic expressions in Python"
   ]
  },
  {
   "cell_type": "code",
   "execution_count": 1,
   "id": "ae1a6e24-c405-48fc-b8c0-842bce93c758",
   "metadata": {},
   "outputs": [
    {
     "name": "stdout",
     "output_type": "stream",
     "text": [
      "17\n"
     ]
    }
   ],
   "source": [
    "a=(3*4)+5\n",
    "print(a)"
   ]
  },
  {
   "cell_type": "code",
   "execution_count": 2,
   "id": "65515f13-fd5a-4547-a4fd-189e9de2e88f",
   "metadata": {},
   "outputs": [
    {
     "name": "stdout",
     "output_type": "stream",
     "text": [
      "3.3333333333333335\n"
     ]
    }
   ],
   "source": [
    "\n",
    "#This will convert 200 minutes to hours by diving by 60\n",
    "\n",
    "minutes=200\n",
    "hours=minutes/60\n",
    "print(hours)"
   ]
  },
  {
   "cell_type": "markdown",
   "id": "4818a7b5-26d5-4bb9-b156-89527bf961d3",
   "metadata": {},
   "source": [
    "**Objectives:**\n",
    "\n",
    "- List popular languages for Data Science.\n",
    "- Identify commonly used libraries in Data Science.\n",
    "- Provide examples of arithmetic operations in Python.\n",
    "- Create a table of Data Science tools.\n",
    "- Demonstrate converting units (e.g., minutes to hours).\n"
   ]
  },
  {
   "cell_type": "markdown",
   "id": "83fe7f76-5cc0-4b76-8ae7-6eb873029ff4",
   "metadata": {},
   "source": [
    "## Author  \n",
    "Subhakar Babu\n"
   ]
  },
  {
   "cell_type": "code",
   "execution_count": null,
   "id": "faecf9ab-8e86-49e9-be2a-5c9afabb847d",
   "metadata": {},
   "outputs": [],
   "source": []
  }
 ],
 "metadata": {
  "kernelspec": {
   "display_name": "Python 3 (ipykernel)",
   "language": "python",
   "name": "python3"
  },
  "language_info": {
   "codemirror_mode": {
    "name": "ipython",
    "version": 3
   },
   "file_extension": ".py",
   "mimetype": "text/x-python",
   "name": "python",
   "nbconvert_exporter": "python",
   "pygments_lexer": "ipython3",
   "version": "3.11.9"
  }
 },
 "nbformat": 4,
 "nbformat_minor": 5
}
